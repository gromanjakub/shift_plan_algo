{
 "cells": [
  {
   "cell_type": "code",
   "execution_count": 15,
   "id": "satisfactory-meeting",
   "metadata": {},
   "outputs": [],
   "source": [
    "import pandas\n",
    "import random\n",
    "import math"
   ]
  },
  {
   "cell_type": "code",
   "execution_count": 197,
   "id": "informational-enhancement",
   "metadata": {},
   "outputs": [
    {
     "name": "stdout",
     "output_type": "stream",
     "text": [
      "['Cikanka', 'Vestkyne', 'Jolanda']\n"
     ]
    }
   ],
   "source": [
    "muzi = [\"Pepa\", \"Jenda\", \"Franta\"]\n",
    "zeny = [\"Jolanda\", \"Cikanka\", \"Vestkyne\"]\n",
    "random.shuffle(muzi)\n",
    "random.shuffle(zeny)\n",
    "print(zeny)\n",
    "vsichni = muzi + zeny\n",
    "stanoviste = [\"S1\", \"S2\", \"R\", \"H\", \"DHL\"]\n",
    "den = \"Utery\"\n",
    "svatek = \"Ne\"\n",
    "casy = ['6:30-7','7-8','8-9','9-10', \"10-11\", \"11-12\"]\n",
    "df = pandas.DataFrame(columns=casy, index = [vsichni])\n",
    "s1 = 0\n",
    "s2 = 0\n",
    "r = 0\n",
    "h = 0\n",
    "prvni_s1 = 0\n",
    "druhy_s1 = 0\n",
    "\n",
    "for j in range(len(casy)):\n",
    "    for i in range(len(vsichni)):\n",
    "        df.iloc[i,j] = \"-\""
   ]
  },
  {
   "cell_type": "code",
   "execution_count": 193,
   "id": "fitting-ozone",
   "metadata": {},
   "outputs": [
    {
     "data": {
      "text/plain": [
       "0"
      ]
     },
     "execution_count": 193,
     "metadata": {},
     "output_type": "execute_result"
    }
   ],
   "source": [
    "s1"
   ]
  },
  {
   "cell_type": "code",
   "execution_count": 198,
   "id": "greek-sauce",
   "metadata": {},
   "outputs": [],
   "source": [
    "df.iloc[0,0] = \"DHL\"                  #první napíšu DHL    \n",
    "\n",
    "for j in range(len(casy)):\n",
    "    \n",
    "    for i in range(len(vsichni)): #pro každé políčko platí že:\n",
    "        \n",
    "        if (df.iloc[i,j] == \"-\"):   #pokud je políčko prázdné tak potom:\n",
    "            \n",
    "            if (s1 == 0):            #pokud nikdo není na S1\n",
    "                df.iloc[i,j] = \"S1\"\n",
    "                s1 = 1\n",
    "                \n",
    "            elif (s1 == 1):   #pokud uz je jeden clovek napsany - musim zchecknout, jestli nejsou stejne pohlavi\n",
    "                prvni_s1 = df.loc[df['6:30-7'] == \"S1\"].index[0][0]  #najde s1 v tom sloupci a dá to jméno řádku\n",
    "                druhy_s1 = vsichni[i] #ziskam jmeno cloveka na radku\n",
    "                \n",
    "                if (not(((prvni_s1 in muzi) and (druhy_s1 in muzi))\n",
    "                        or ((prvni_s1 in zeny) and (druhy_s1 in zeny)))): \n",
    "                    #zchecknu jestli nejsou stejni\n",
    "                    df.iloc[i,j] = \"S1\"  #priradim tomu cloveku S1\n",
    "                    s1 = 2\n",
    "                        \n",
    "                        \n",
    "            elif (s1 == 2):\n",
    "                \n",
    "                pass\n",
    "               # elif (s2 < 2):             #zaplním dvakrát s2\n",
    "               #     df.iloc[i,j] = \"S2\"\n",
    "               #     s2 = s2+1\n",
    "                \n",
    "                \n",
    "            #else:\n",
    "            #    pass\n",
    "        \n",
    "        #cargo 1 clovek\n",
    "        #KP 2x za den\n",
    "        #P 4x za den\n",
    "        # S1 muz A zena po-pá\n",
    "        # s1 muz NEBO zena so+ne+svatky\n",
    "        # ZACINA PRVNI - DHL rano muz pul hodiny, odpoledne 15:30-18:30, s1; s2; přestávky\n",
    "        \n",
    "        #else:\n",
    "        #df.iloc[i,j] = random.choice(stanoviste)\n",
    "        "
   ]
  },
  {
   "cell_type": "code",
   "execution_count": 142,
   "id": "collaborative-expression",
   "metadata": {},
   "outputs": [
    {
     "data": {
      "text/plain": [
       "'Jenda'"
      ]
     },
     "execution_count": 142,
     "metadata": {},
     "output_type": "execute_result"
    }
   ],
   "source": [
    "df.loc[df['6:30-7'] == \"S1\"].index[0][0]"
   ]
  },
  {
   "cell_type": "code",
   "execution_count": 151,
   "id": "fossil-netherlands",
   "metadata": {},
   "outputs": [
    {
     "data": {
      "text/plain": [
       "'Vestkyne'"
      ]
     },
     "execution_count": 151,
     "metadata": {},
     "output_type": "execute_result"
    }
   ],
   "source": [
    "vsichni[3]"
   ]
  },
  {
   "cell_type": "code",
   "execution_count": 92,
   "id": "activated-arnold",
   "metadata": {},
   "outputs": [],
   "source": [
    "ff = df.loc[df['6:30-7'] == \"DHL\"].index[0][0]"
   ]
  },
  {
   "cell_type": "code",
   "execution_count": 199,
   "id": "alleged-laugh",
   "metadata": {},
   "outputs": [
    {
     "data": {
      "text/html": [
       "<div>\n",
       "<style scoped>\n",
       "    .dataframe tbody tr th:only-of-type {\n",
       "        vertical-align: middle;\n",
       "    }\n",
       "\n",
       "    .dataframe tbody tr th {\n",
       "        vertical-align: top;\n",
       "    }\n",
       "\n",
       "    .dataframe thead th {\n",
       "        text-align: right;\n",
       "    }\n",
       "</style>\n",
       "<table border=\"1\" class=\"dataframe\">\n",
       "  <thead>\n",
       "    <tr style=\"text-align: right;\">\n",
       "      <th></th>\n",
       "      <th>6:30-7</th>\n",
       "      <th>7-8</th>\n",
       "      <th>8-9</th>\n",
       "      <th>9-10</th>\n",
       "      <th>10-11</th>\n",
       "      <th>11-12</th>\n",
       "    </tr>\n",
       "  </thead>\n",
       "  <tbody>\n",
       "    <tr>\n",
       "      <th>Pepa</th>\n",
       "      <td>DHL</td>\n",
       "      <td>-</td>\n",
       "      <td>-</td>\n",
       "      <td>-</td>\n",
       "      <td>-</td>\n",
       "      <td>-</td>\n",
       "    </tr>\n",
       "    <tr>\n",
       "      <th>Jenda</th>\n",
       "      <td>S1</td>\n",
       "      <td>-</td>\n",
       "      <td>-</td>\n",
       "      <td>-</td>\n",
       "      <td>-</td>\n",
       "      <td>-</td>\n",
       "    </tr>\n",
       "    <tr>\n",
       "      <th>Franta</th>\n",
       "      <td>-</td>\n",
       "      <td>-</td>\n",
       "      <td>-</td>\n",
       "      <td>-</td>\n",
       "      <td>-</td>\n",
       "      <td>-</td>\n",
       "    </tr>\n",
       "    <tr>\n",
       "      <th>Cikanka</th>\n",
       "      <td>S1</td>\n",
       "      <td>-</td>\n",
       "      <td>-</td>\n",
       "      <td>-</td>\n",
       "      <td>-</td>\n",
       "      <td>-</td>\n",
       "    </tr>\n",
       "    <tr>\n",
       "      <th>Vestkyne</th>\n",
       "      <td>-</td>\n",
       "      <td>-</td>\n",
       "      <td>-</td>\n",
       "      <td>-</td>\n",
       "      <td>-</td>\n",
       "      <td>-</td>\n",
       "    </tr>\n",
       "    <tr>\n",
       "      <th>Jolanda</th>\n",
       "      <td>-</td>\n",
       "      <td>-</td>\n",
       "      <td>-</td>\n",
       "      <td>-</td>\n",
       "      <td>-</td>\n",
       "      <td>-</td>\n",
       "    </tr>\n",
       "  </tbody>\n",
       "</table>\n",
       "</div>"
      ],
      "text/plain": [
       "         6:30-7 7-8 8-9 9-10 10-11 11-12\n",
       "Pepa        DHL   -   -    -     -     -\n",
       "Jenda        S1   -   -    -     -     -\n",
       "Franta        -   -   -    -     -     -\n",
       "Cikanka      S1   -   -    -     -     -\n",
       "Vestkyne      -   -   -    -     -     -\n",
       "Jolanda       -   -   -    -     -     -"
      ]
     },
     "execution_count": 199,
     "metadata": {},
     "output_type": "execute_result"
    }
   ],
   "source": [
    "df"
   ]
  },
  {
   "cell_type": "code",
   "execution_count": 95,
   "id": "inner-tourism",
   "metadata": {},
   "outputs": [
    {
     "data": {
      "text/plain": [
       "True"
      ]
     },
     "execution_count": 95,
     "metadata": {},
     "output_type": "execute_result"
    }
   ],
   "source": [
    "ff in muzi"
   ]
  },
  {
   "cell_type": "code",
   "execution_count": 156,
   "id": "appropriate-possession",
   "metadata": {},
   "outputs": [
    {
     "data": {
      "text/plain": [
       "True"
      ]
     },
     "execution_count": 156,
     "metadata": {},
     "output_type": "execute_result"
    }
   ],
   "source": [
    "vsichni[3] in zeny"
   ]
  },
  {
   "cell_type": "code",
   "execution_count": null,
   "id": "attempted-basic",
   "metadata": {},
   "outputs": [],
   "source": []
  }
 ],
 "metadata": {
  "kernelspec": {
   "display_name": "Python 3",
   "language": "python",
   "name": "python3"
  },
  "language_info": {
   "codemirror_mode": {
    "name": "ipython",
    "version": 3
   },
   "file_extension": ".py",
   "mimetype": "text/x-python",
   "name": "python",
   "nbconvert_exporter": "python",
   "pygments_lexer": "ipython3",
   "version": "3.8.5"
  }
 },
 "nbformat": 4,
 "nbformat_minor": 5
}
